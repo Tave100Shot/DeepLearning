{
 "cells": [
  {
   "cell_type": "markdown",
   "metadata": {},
   "source": [
    "# import"
   ]
  },
  {
   "cell_type": "code",
   "execution_count": 24,
   "metadata": {},
   "outputs": [],
   "source": [
    "from gensim.models import Word2Vec\n",
    "import numpy as np\n",
    "import pandas as pd\n",
    "\n",
    "user = pd.read_csv('./clean_df.csv', index_col=0)\n",
    "problem = pd.read_excel('./data/problemList.xlsx')"
   ]
  },
  {
   "cell_type": "code",
   "execution_count": 18,
   "metadata": {},
   "outputs": [],
   "source": [
    "import ast\n",
    "from sklearn.cluster import KMeans\n",
    "from sklearn.preprocessing import StandardScaler\n",
    "from sklearn.model_selection import train_test_split\n",
    "from sklearn.neighbors import KNeighborsClassifier\n",
    "from sklearn.metrics import classification_report\n",
    "import torch\n",
    "\n",
    "from torch.utils.data import DataLoader, TensorDataset\n",
    "import gc\n",
    "import torch.nn as nn\n",
    "from collections import Counter\n",
    "\n",
    "\n",
    "\n",
    "device = torch.device('mps')"
   ]
  },
  {
   "cell_type": "markdown",
   "metadata": {},
   "source": [
    "# kmeans"
   ]
  },
  {
   "cell_type": "code",
   "execution_count": 25,
   "metadata": {},
   "outputs": [],
   "source": [
    "user['solvedProblemList'] = user['solvedProblemList'].apply(ast.literal_eval)\n",
    "user['triedNotsolvedList'] = user['triedNotsolvedList'].apply(ast.literal_eval)"
   ]
  },
  {
   "cell_type": "code",
   "execution_count": 5,
   "metadata": {},
   "outputs": [],
   "source": [
    "def list_to_text(lst):\n",
    "    return ' '.join(map(str, lst))\n",
    "\n",
    "user['solvedProblemList_text'] = user['solvedProblemList'].apply(list_to_text)"
   ]
  },
  {
   "cell_type": "code",
   "execution_count": 7,
   "metadata": {},
   "outputs": [],
   "source": [
    "model = Word2Vec(sentences=user['solvedProblemList_text'], vector_size=100, window=2, min_count=1000, workers=4)"
   ]
  },
  {
   "cell_type": "code",
   "execution_count": 8,
   "metadata": {},
   "outputs": [],
   "source": [
    "# Word2Vec 모델을 사용하여 각 리스트의 벡터 평균을 계산하여 새로운 특성 생성\n",
    "def average_vector(problem_list):\n",
    "    # 리스트 내의 모든 문제에 대해 벡터를 구하고 평균을 계산\n",
    "    vectors = [model.wv[word] for word in problem_list if word in model.wv]\n",
    "    if len(vectors) > 0:\n",
    "        return np.mean(vectors, axis=0)\n",
    "    else:\n",
    "        return np.zeros(100)\n",
    "\n",
    "\n",
    "# 새로운 임베딩 특성을 데이터프레임에 추가\n",
    "user['solvedProblemListVec'] = user['solvedProblemList_text'].apply(average_vector)"
   ]
  },
  {
   "cell_type": "code",
   "execution_count": 19,
   "metadata": {},
   "outputs": [],
   "source": [
    "X = user[['rank', 'rightCnt', 'wrongCnt', 'time out', 'memory exceed', 'print exceed', 'runTime error', 'compile error', 'solvedProblemListVec', 'tier']]\n"
   ]
  },
  {
   "cell_type": "code",
   "execution_count": 21,
   "metadata": {},
   "outputs": [],
   "source": [
    "# Word2Vec 벡터를 포함한 독립변수 데이터를 합침\n",
    "X_expanded = X.drop('solvedProblemListVec', axis=1)\n",
    "X_expanded = X_expanded.join(pd.DataFrame(X['solvedProblemListVec'].tolist()))"
   ]
  },
  {
   "cell_type": "code",
   "execution_count": 24,
   "metadata": {},
   "outputs": [],
   "source": [
    "# NA 값을 가진 행을 찾음\n",
    "na_rows = X_expanded.isna().any(axis=1)\n",
    "\n",
    "# X_expanded에서 NA 값을 가진 행을 제거\n",
    "X_expanded.dropna(inplace=True)\n",
    "\n",
    "# 모든 열 이름을 문자열로 변환\n",
    "X_expanded.columns = X_expanded.columns.astype(str)"
   ]
  },
  {
   "cell_type": "code",
   "execution_count": 25,
   "metadata": {},
   "outputs": [],
   "source": [
    "# 데이터 스케일링\n",
    "scaler = StandardScaler()\n",
    "X_scaled = scaler.fit_transform(X_expanded)"
   ]
  },
  {
   "cell_type": "code",
   "execution_count": 39,
   "metadata": {},
   "outputs": [
    {
     "name": "stderr",
     "output_type": "stream",
     "text": [
      "/Users/yunju/miniforge3/envs/tave/lib/python3.8/site-packages/sklearn/cluster/_kmeans.py:1416: FutureWarning: The default value of `n_init` will change from 10 to 'auto' in 1.4. Set the value of `n_init` explicitly to suppress the warning\n",
      "  super()._check_params_vs_input(X, default_n_init=10)\n"
     ]
    }
   ],
   "source": [
    "kmeans = KMeans(n_clusters=100, random_state=0).fit(X_scaled)"
   ]
  },
  {
   "cell_type": "code",
   "execution_count": 40,
   "metadata": {},
   "outputs": [],
   "source": [
    "labels = kmeans.labels_\n"
   ]
  },
  {
   "cell_type": "code",
   "execution_count": 41,
   "metadata": {},
   "outputs": [],
   "source": [
    "X_expanded['new_tier'] = labels"
   ]
  },
  {
   "cell_type": "code",
   "execution_count": 42,
   "metadata": {},
   "outputs": [],
   "source": [
    "tier_counts = X_expanded.groupby('tier')['new_tier'].value_counts()\n"
   ]
  },
  {
   "cell_type": "code",
   "execution_count": 43,
   "metadata": {},
   "outputs": [
    {
     "data": {
      "text/plain": [
       "new_tier\n",
       "3     2\n",
       "61    2\n",
       "50    2\n",
       "15    1\n",
       "57    1\n",
       "44    1\n",
       "41    1\n",
       "39    1\n",
       "58    1\n",
       "75    1\n",
       "95    1\n",
       "93    1\n",
       "80    1\n",
       "83    1\n",
       "84    1\n",
       "21    1\n",
       "29    1\n",
       "35    1\n",
       "36    1\n",
       "2     1\n",
       "Name: count, dtype: int64"
      ]
     },
     "execution_count": 43,
     "metadata": {},
     "output_type": "execute_result"
    }
   ],
   "source": [
    "tier_counts[1]\n",
    "# 진짜 너무 별론디... 걍 문제번호를 드롭하고 해보자"
   ]
  },
  {
   "cell_type": "code",
   "execution_count": 5,
   "metadata": {},
   "outputs": [
    {
     "name": "stderr",
     "output_type": "stream",
     "text": [
      "/Users/yunju/miniforge3/envs/tave/lib/python3.8/site-packages/sklearn/cluster/_kmeans.py:1416: FutureWarning: The default value of `n_init` will change from 10 to 'auto' in 1.4. Set the value of `n_init` explicitly to suppress the warning\n",
      "  super()._check_params_vs_input(X, default_n_init=10)\n",
      "/var/folders/d6/d15px6nn599bb66tcmrq23380000gn/T/ipykernel_10196/2804835096.py:8: SettingWithCopyWarning: \n",
      "A value is trying to be set on a copy of a slice from a DataFrame.\n",
      "Try using .loc[row_indexer,col_indexer] = value instead\n",
      "\n",
      "See the caveats in the documentation: https://pandas.pydata.org/pandas-docs/stable/user_guide/indexing.html#returning-a-view-versus-a-copy\n",
      "  X['new_tier'] = labels\n"
     ]
    }
   ],
   "source": [
    "X = user[['rank', 'rightCnt', 'wrongCnt', 'tier']]\n",
    "# 데이터 스케일링\n",
    "scaler = StandardScaler()\n",
    "X_scaled = scaler.fit_transform(X)\n",
    "kmeans = KMeans(n_clusters=50, random_state=0).fit(X_scaled)\n",
    "labels = kmeans.labels_\n",
    "\n",
    "X['new_tier'] = labels\n"
   ]
  },
  {
   "cell_type": "code",
   "execution_count": 6,
   "metadata": {},
   "outputs": [
    {
     "data": {
      "text/plain": [
       "new_tier\n",
       "48    23\n",
       "Name: count, dtype: int64"
      ]
     },
     "execution_count": 6,
     "metadata": {},
     "output_type": "execute_result"
    }
   ],
   "source": [
    "tier_counts = X.groupby('tier')['new_tier'].value_counts()\n",
    "tier_counts[1]"
   ]
  },
  {
   "cell_type": "markdown",
   "metadata": {},
   "source": [
    "# knn"
   ]
  },
  {
   "cell_type": "code",
   "execution_count": 7,
   "metadata": {},
   "outputs": [],
   "source": [
    "user['new_tier'] = labels"
   ]
  },
  {
   "cell_type": "code",
   "execution_count": 8,
   "metadata": {},
   "outputs": [
    {
     "data": {
      "text/html": [
       "<style>#sk-container-id-1 {color: black;}#sk-container-id-1 pre{padding: 0;}#sk-container-id-1 div.sk-toggleable {background-color: white;}#sk-container-id-1 label.sk-toggleable__label {cursor: pointer;display: block;width: 100%;margin-bottom: 0;padding: 0.3em;box-sizing: border-box;text-align: center;}#sk-container-id-1 label.sk-toggleable__label-arrow:before {content: \"▸\";float: left;margin-right: 0.25em;color: #696969;}#sk-container-id-1 label.sk-toggleable__label-arrow:hover:before {color: black;}#sk-container-id-1 div.sk-estimator:hover label.sk-toggleable__label-arrow:before {color: black;}#sk-container-id-1 div.sk-toggleable__content {max-height: 0;max-width: 0;overflow: hidden;text-align: left;background-color: #f0f8ff;}#sk-container-id-1 div.sk-toggleable__content pre {margin: 0.2em;color: black;border-radius: 0.25em;background-color: #f0f8ff;}#sk-container-id-1 input.sk-toggleable__control:checked~div.sk-toggleable__content {max-height: 200px;max-width: 100%;overflow: auto;}#sk-container-id-1 input.sk-toggleable__control:checked~label.sk-toggleable__label-arrow:before {content: \"▾\";}#sk-container-id-1 div.sk-estimator input.sk-toggleable__control:checked~label.sk-toggleable__label {background-color: #d4ebff;}#sk-container-id-1 div.sk-label input.sk-toggleable__control:checked~label.sk-toggleable__label {background-color: #d4ebff;}#sk-container-id-1 input.sk-hidden--visually {border: 0;clip: rect(1px 1px 1px 1px);clip: rect(1px, 1px, 1px, 1px);height: 1px;margin: -1px;overflow: hidden;padding: 0;position: absolute;width: 1px;}#sk-container-id-1 div.sk-estimator {font-family: monospace;background-color: #f0f8ff;border: 1px dotted black;border-radius: 0.25em;box-sizing: border-box;margin-bottom: 0.5em;}#sk-container-id-1 div.sk-estimator:hover {background-color: #d4ebff;}#sk-container-id-1 div.sk-parallel-item::after {content: \"\";width: 100%;border-bottom: 1px solid gray;flex-grow: 1;}#sk-container-id-1 div.sk-label:hover label.sk-toggleable__label {background-color: #d4ebff;}#sk-container-id-1 div.sk-serial::before {content: \"\";position: absolute;border-left: 1px solid gray;box-sizing: border-box;top: 0;bottom: 0;left: 50%;z-index: 0;}#sk-container-id-1 div.sk-serial {display: flex;flex-direction: column;align-items: center;background-color: white;padding-right: 0.2em;padding-left: 0.2em;position: relative;}#sk-container-id-1 div.sk-item {position: relative;z-index: 1;}#sk-container-id-1 div.sk-parallel {display: flex;align-items: stretch;justify-content: center;background-color: white;position: relative;}#sk-container-id-1 div.sk-item::before, #sk-container-id-1 div.sk-parallel-item::before {content: \"\";position: absolute;border-left: 1px solid gray;box-sizing: border-box;top: 0;bottom: 0;left: 50%;z-index: -1;}#sk-container-id-1 div.sk-parallel-item {display: flex;flex-direction: column;z-index: 1;position: relative;background-color: white;}#sk-container-id-1 div.sk-parallel-item:first-child::after {align-self: flex-end;width: 50%;}#sk-container-id-1 div.sk-parallel-item:last-child::after {align-self: flex-start;width: 50%;}#sk-container-id-1 div.sk-parallel-item:only-child::after {width: 0;}#sk-container-id-1 div.sk-dashed-wrapped {border: 1px dashed gray;margin: 0 0.4em 0.5em 0.4em;box-sizing: border-box;padding-bottom: 0.4em;background-color: white;}#sk-container-id-1 div.sk-label label {font-family: monospace;font-weight: bold;display: inline-block;line-height: 1.2em;}#sk-container-id-1 div.sk-label-container {text-align: center;}#sk-container-id-1 div.sk-container {/* jupyter's `normalize.less` sets `[hidden] { display: none; }` but bootstrap.min.css set `[hidden] { display: none !important; }` so we also need the `!important` here to be able to override the default hidden behavior on the sphinx rendered scikit-learn.org. See: https://github.com/scikit-learn/scikit-learn/issues/21755 */display: inline-block !important;position: relative;}#sk-container-id-1 div.sk-text-repr-fallback {display: none;}</style><div id=\"sk-container-id-1\" class=\"sk-top-container\"><div class=\"sk-text-repr-fallback\"><pre>KNeighborsClassifier(n_neighbors=20)</pre><b>In a Jupyter environment, please rerun this cell to show the HTML representation or trust the notebook. <br />On GitHub, the HTML representation is unable to render, please try loading this page with nbviewer.org.</b></div><div class=\"sk-container\" hidden><div class=\"sk-item\"><div class=\"sk-estimator sk-toggleable\"><input class=\"sk-toggleable__control sk-hidden--visually\" id=\"sk-estimator-id-1\" type=\"checkbox\" checked><label for=\"sk-estimator-id-1\" class=\"sk-toggleable__label sk-toggleable__label-arrow\">KNeighborsClassifier</label><div class=\"sk-toggleable__content\"><pre>KNeighborsClassifier(n_neighbors=20)</pre></div></div></div></div></div>"
      ],
      "text/plain": [
       "KNeighborsClassifier(n_neighbors=20)"
      ]
     },
     "execution_count": 8,
     "metadata": {},
     "output_type": "execute_result"
    }
   ],
   "source": [
    "# 필요한 칼럼만 선택\n",
    "x = user[['rank', 'rightCnt', 'wrongCnt', 'tier']]\n",
    "y = user['new_tier']\n",
    "\n",
    "# 데이터 분할\n",
    "X_train, X_test, y_train, y_test = train_test_split(x, y, test_size=0.2, random_state=42)\n",
    "\n",
    "\n",
    "scaler = StandardScaler()\n",
    "X_scaled = scaler.fit_transform(X_train)\n",
    "X_test_scaled = scaler.transform(X_test)\n",
    "\n",
    "\n",
    "# KNN 모델 훈련\n",
    "knn = KNeighborsClassifier(n_neighbors=20)\n",
    "\n",
    "knn.fit(X_scaled, y_train)\n"
   ]
  },
  {
   "cell_type": "code",
   "execution_count": 9,
   "metadata": {},
   "outputs": [
    {
     "name": "stderr",
     "output_type": "stream",
     "text": [
      "/Users/yunju/miniforge3/envs/tave/lib/python3.8/site-packages/sklearn/metrics/_classification.py:1469: UndefinedMetricWarning: Precision and F-score are ill-defined and being set to 0.0 in labels with no predicted samples. Use `zero_division` parameter to control this behavior.\n",
      "  _warn_prf(average, modifier, msg_start, len(result))\n",
      "/Users/yunju/miniforge3/envs/tave/lib/python3.8/site-packages/sklearn/metrics/_classification.py:1469: UndefinedMetricWarning: Precision and F-score are ill-defined and being set to 0.0 in labels with no predicted samples. Use `zero_division` parameter to control this behavior.\n",
      "  _warn_prf(average, modifier, msg_start, len(result))\n",
      "/Users/yunju/miniforge3/envs/tave/lib/python3.8/site-packages/sklearn/metrics/_classification.py:1469: UndefinedMetricWarning: Precision and F-score are ill-defined and being set to 0.0 in labels with no predicted samples. Use `zero_division` parameter to control this behavior.\n",
      "  _warn_prf(average, modifier, msg_start, len(result))\n"
     ]
    }
   ],
   "source": [
    "# 모델 평가\n",
    "y_pred = knn.predict(X_test_scaled)\n",
    "report = classification_report(y_test, y_pred)\n"
   ]
  },
  {
   "cell_type": "code",
   "execution_count": 10,
   "metadata": {},
   "outputs": [
    {
     "name": "stdout",
     "output_type": "stream",
     "text": [
      "              precision    recall  f1-score   support\n",
      "\n",
      "           0       1.00      1.00      1.00      1207\n",
      "           1       0.96      0.99      0.97       290\n",
      "           2       1.00      1.00      1.00       877\n",
      "           3       0.95      1.00      0.97        37\n",
      "           4       0.93      0.93      0.93       152\n",
      "           5       0.99      1.00      1.00       635\n",
      "           6       1.00      0.33      0.50         6\n",
      "           7       0.93      0.90      0.92       144\n",
      "           8       1.00      1.00      1.00      1052\n",
      "           9       0.78      0.93      0.85        15\n",
      "          10       0.99      1.00      1.00      1261\n",
      "          12       0.97      0.99      0.98       631\n",
      "          13       1.00      0.99      0.99       761\n",
      "          14       0.95      0.86      0.90        22\n",
      "          15       0.89      0.91      0.90        56\n",
      "          16       0.96      0.99      0.98       221\n",
      "          17       1.00      1.00      1.00       743\n",
      "          18       0.92      0.90      0.91        51\n",
      "          19       0.95      0.96      0.95       380\n",
      "          20       0.96      1.00      0.98       419\n",
      "          21       0.95      0.91      0.93        43\n",
      "          22       0.94      0.95      0.94       167\n",
      "          23       0.88      0.88      0.88         8\n",
      "          24       1.00      1.00      1.00       607\n",
      "          25       1.00      0.95      0.98       316\n",
      "          26       0.67      0.83      0.74        12\n",
      "          27       1.00      1.00      1.00       676\n",
      "          28       0.87      0.92      0.89        50\n",
      "          29       0.97      0.97      0.97        72\n",
      "          31       1.00      0.99      1.00       520\n",
      "          32       0.75      0.43      0.55         7\n",
      "          33       0.00      0.00      0.00         1\n",
      "          34       1.00      0.99      1.00      1011\n",
      "          35       1.00      1.00      1.00      1141\n",
      "          36       1.00      1.00      1.00       954\n",
      "          37       0.75      0.75      0.75         4\n",
      "          38       0.00      0.00      0.00         1\n",
      "          39       0.96      0.98      0.97       552\n",
      "          40       0.90      0.94      0.92        68\n",
      "          41       0.99      0.93      0.96       107\n",
      "          42       0.99      0.92      0.95       200\n",
      "          43       0.98      0.94      0.96       253\n",
      "          44       0.93      0.97      0.95       279\n",
      "          45       1.00      0.85      0.92        34\n",
      "          46       0.96      0.88      0.92       153\n",
      "          47       0.97      0.97      0.97       459\n",
      "          48       0.99      0.99      0.99        79\n",
      "          49       0.92      0.97      0.94        35\n",
      "\n",
      "    accuracy                           0.98     16769\n",
      "   macro avg       0.91      0.89      0.89     16769\n",
      "weighted avg       0.98      0.98      0.98     16769\n",
      "\n"
     ]
    }
   ],
   "source": [
    "print(report)"
   ]
  },
  {
   "cell_type": "markdown",
   "metadata": {},
   "source": [
    "# 가장 가까운 데이터 포인터 찾기"
   ]
  },
  {
   "cell_type": "code",
   "execution_count": 96,
   "metadata": {},
   "outputs": [],
   "source": [
    "distances, indices = knn.kneighbors([X_test_scaled[0]])"
   ]
  },
  {
   "cell_type": "code",
   "execution_count": 129,
   "metadata": {},
   "outputs": [],
   "source": [
    "# 필터링된 데이터 프레임 생성\n",
    "nearest_neighbors_df = X_train.iloc[indices[0]]"
   ]
  },
  {
   "cell_type": "code",
   "execution_count": 131,
   "metadata": {},
   "outputs": [],
   "source": [
    "# 필터링된 데이터 프레임에서 solvedProblemList 칼럼 추출\n",
    "filtered_solved_problems = user.loc[nearest_neighbors_df.index, 'solvedProblemList']\n",
    "\n",
    "# 모든 이웃의 solvedProblemList를 하나의 집합으로 합치기\n",
    "neighbor_solved_problems_set = set().union(*filtered_solved_problems)\n",
    "\n"
   ]
  },
  {
   "cell_type": "code",
   "execution_count": 121,
   "metadata": {},
   "outputs": [
    {
     "data": {
      "text/plain": [
       "877"
      ]
     },
     "execution_count": 121,
     "metadata": {},
     "output_type": "execute_result"
    }
   ],
   "source": [
    "len(neighbor_solved_problems_set)"
   ]
  },
  {
   "cell_type": "code",
   "execution_count": 133,
   "metadata": {},
   "outputs": [],
   "source": [
    "# X_test의 특정 사용자의 solvedProblemList 추출 (예시로 첫 번째 사용자를 사용)\n",
    "test_user_solved_problems = set(user.iloc[X_test.index[0]]['solvedProblemList'])\n",
    "\n",
    "# 차집합 구하기 (이웃이 풀었지만 테스트 사용자가 풀지 않은 문제들)\n",
    "unsolved_problems = neighbor_solved_problems_set - test_user_solved_problems\n"
   ]
  },
  {
   "cell_type": "code",
   "execution_count": 114,
   "metadata": {},
   "outputs": [
    {
     "data": {
      "text/plain": [
       "733"
      ]
     },
     "execution_count": 114,
     "metadata": {},
     "output_type": "execute_result"
    }
   ],
   "source": [
    "len(unsolved_problems)"
   ]
  },
  {
   "cell_type": "code",
   "execution_count": 126,
   "metadata": {},
   "outputs": [],
   "source": [
    "# 너무 문제가 많으니 가장 가까운 애만 확인해보자\n",
    "\n",
    "# 필터링된 데이터 프레임에서 solvedProblemList 칼럼 추출\n",
    "filtered_solved_problems = user.loc[indices[0][0], 'solvedProblemList']\n",
    "\n",
    "# 모든 이웃의 solvedProblemList를 하나의 집합으로 합치기\n",
    "neighbor_solved_problems_set = set().union(*filtered_solved_problems)\n"
   ]
  },
  {
   "cell_type": "code",
   "execution_count": 136,
   "metadata": {},
   "outputs": [],
   "source": [
    "filtered_solved_problems = user.loc[indices[0][0], 'solvedProblemList']\n"
   ]
  },
  {
   "cell_type": "code",
   "execution_count": 139,
   "metadata": {},
   "outputs": [],
   "source": [
    "unsolved_problems = set(filtered_solved_problems) - test_user_solved_problems\n"
   ]
  },
  {
   "cell_type": "code",
   "execution_count": 142,
   "metadata": {},
   "outputs": [
    {
     "data": {
      "text/plain": [
       "252"
      ]
     },
     "execution_count": 142,
     "metadata": {},
     "output_type": "execute_result"
    }
   ],
   "source": [
    "len(unsolved_problems)"
   ]
  },
  {
   "cell_type": "code",
   "execution_count": null,
   "metadata": {},
   "outputs": [],
   "source": [
    "# 이래도 겁나 많네...... 이걸 이제 ease 모델에 넣어보자"
   ]
  },
  {
   "cell_type": "markdown",
   "metadata": {},
   "source": [
    "# ease"
   ]
  },
  {
   "cell_type": "code",
   "execution_count": 11,
   "metadata": {},
   "outputs": [],
   "source": [
    "\n",
    "\n",
    "gc.collect()\n",
    "torch.mps.empty_cache()\n",
    "\n",
    "\n",
    "class EASE(nn.Module):\n",
    "    def __init__(self, num_items, reg_lambda=500):\n",
    "        super(EASE, self).__init__()\n",
    "        self.reg_lambda = reg_lambda\n",
    "        self.num_items = num_items\n",
    "        self.item_weights = nn.Parameter(torch.zeros(num_items, num_items))\n",
    "        self.device = torch.device('mps')\n",
    "\n",
    "    def forward(self, x):\n",
    "        # x: 사용자-아이템 상호작용 행렬\n",
    "        return torch.matmul(x, self.item_weights)\n",
    "    def clear_memory(self):\n",
    "        gc.collect()\n",
    "        torch.cuda.empty_cache()\n",
    "    \n",
    "    def fit(self, data_loader):\n",
    "        self.item_weights.data.zero_()  # 가중치 초기화\n",
    "\n",
    "        for batch in data_loader:\n",
    "            # 데이터 텐서 추출\n",
    "            data_tensor = batch[0].to(self.device)\n",
    "\n",
    "            # 배치에 대한 Gram Matrix 계산\n",
    "            G_batch = torch.matmul(data_tensor.T, data_tensor) + self.reg_lambda * torch.eye(self.num_items, device=self.device)\n",
    "\n",
    "            # Batch Gram Matrix의 역행렬 계산\n",
    "            P_batch = torch.inverse(G_batch)\n",
    "\n",
    "            # Batch Item Weights 계산\n",
    "            B_batch = P_batch / -torch.diag(P_batch)\n",
    "            B_batch.fill_diagonal_(0)\n",
    "\n",
    "            # 각 배치의 결과를 누적\n",
    "            self.item_weights.data += B_batch\n",
    "\n",
    "        # 평균 가중치 계산\n",
    "        self.item_weights.data /= len(data_loader)\n"
   ]
  },
  {
   "cell_type": "code",
   "execution_count": 12,
   "metadata": {},
   "outputs": [
    {
     "data": {
      "text/html": [
       "<div>\n",
       "<style scoped>\n",
       "    .dataframe tbody tr th:only-of-type {\n",
       "        vertical-align: middle;\n",
       "    }\n",
       "\n",
       "    .dataframe tbody tr th {\n",
       "        vertical-align: top;\n",
       "    }\n",
       "\n",
       "    .dataframe thead th {\n",
       "        text-align: right;\n",
       "    }\n",
       "</style>\n",
       "<table border=\"1\" class=\"dataframe\">\n",
       "  <thead>\n",
       "    <tr style=\"text-align: right;\">\n",
       "      <th></th>\n",
       "      <th>id</th>\n",
       "      <th>tier</th>\n",
       "      <th>rank</th>\n",
       "      <th>rightCnt</th>\n",
       "      <th>wrongCnt</th>\n",
       "      <th>time out</th>\n",
       "      <th>memory exceed</th>\n",
       "      <th>print exceed</th>\n",
       "      <th>runTime error</th>\n",
       "      <th>compile error</th>\n",
       "      <th>solvedProblemList</th>\n",
       "      <th>triedNotsolvedList</th>\n",
       "      <th>new_tier</th>\n",
       "    </tr>\n",
       "  </thead>\n",
       "  <tbody>\n",
       "    <tr>\n",
       "      <th>0</th>\n",
       "      <td>jh5154</td>\n",
       "      <td>15</td>\n",
       "      <td>10033</td>\n",
       "      <td>546</td>\n",
       "      <td>252</td>\n",
       "      <td>76</td>\n",
       "      <td>2</td>\n",
       "      <td>7</td>\n",
       "      <td>42</td>\n",
       "      <td>33</td>\n",
       "      <td>[1000, 1001, 1003, 1008, 1012, 1018, 1021, 102...</td>\n",
       "      <td>[1722, 1725, 1916, 11279, 12902, 13199, 13398]</td>\n",
       "      <td>1</td>\n",
       "    </tr>\n",
       "  </tbody>\n",
       "</table>\n",
       "</div>"
      ],
      "text/plain": [
       "       id  tier   rank  rightCnt  wrongCnt  time out  memory exceed  \\\n",
       "0  jh5154    15  10033       546       252        76              2   \n",
       "\n",
       "   print exceed  runTime error  compile error  \\\n",
       "0             7             42             33   \n",
       "\n",
       "                                   solvedProblemList  \\\n",
       "0  [1000, 1001, 1003, 1008, 1012, 1018, 1021, 102...   \n",
       "\n",
       "                               triedNotsolvedList  new_tier  \n",
       "0  [1722, 1725, 1916, 11279, 12902, 13199, 13398]         1  "
      ]
     },
     "execution_count": 12,
     "metadata": {},
     "output_type": "execute_result"
    }
   ],
   "source": [
    "user[user['id'] == 'jh5154']\n",
    "# 이데이터 찾아야됨"
   ]
  },
  {
   "cell_type": "code",
   "execution_count": 13,
   "metadata": {},
   "outputs": [],
   "source": [
    "# X_train에서 원본 인덱스 위치 찾기\n",
    "original_index = X_train.index.get_loc(0)\n",
    "\n",
    "# X_scaled에서 해당 인덱스 위치의 데이터 얻기\n",
    "scaled_data = X_scaled[original_index]"
   ]
  },
  {
   "cell_type": "code",
   "execution_count": 26,
   "metadata": {},
   "outputs": [],
   "source": [
    "distances, indices = knn.kneighbors([scaled_data])\n",
    "\n",
    "# 필터링된 데이터 프레임 생성\n",
    "nearest_neighbors_df = X_train.iloc[indices[0]]\n",
    "\n",
    "df = user.loc[nearest_neighbors_df.index, :]"
   ]
  },
  {
   "cell_type": "code",
   "execution_count": 28,
   "metadata": {},
   "outputs": [],
   "source": [
    "# 문제 번호의 빈도를 계산하기 위한 Counter 객체 초기화\n",
    "problem_counts = Counter()\n",
    "\n",
    "# solvedProblemList 칼럼에서 문제 번호의 빈도를 계산\n",
    "for problem_list in df['solvedProblemList']:\n",
    "    problem_counts.update(problem_list)\n",
    "\n",
    "\n",
    "# triedNotsolvedList 칼럼에서 문제 번호의 빈도를 계산\n",
    "for problem_list in df['triedNotsolvedList']:\n",
    "    problem_counts.update(problem_list)"
   ]
  },
  {
   "cell_type": "code",
   "execution_count": 32,
   "metadata": {},
   "outputs": [],
   "source": [
    "\n",
    "\n",
    "# problem_counts에서 값이 5이하면 버리기 => 20명중에서 5명이상이 풀었으면 잘  풀은거지\n",
    "filtered_problems = {problem: count for problem, count in problem_counts.items() if count >= 5}\n",
    "\n",
    "# 필터링된 문제 번호 집합 생성\n",
    "filtered_problems_set = set(filtered_problems.keys())\n",
    "\n",
    "# solvedProblemList와 triedNotsolvedList에서 필터링된 문제 번호만 유지\n",
    "df['solvedProblemList'] = df['solvedProblemList'].apply(lambda x: [problem for problem in x if problem in filtered_problems_set])\n",
    "df['triedNotsolvedList'] = df['triedNotsolvedList'].apply(lambda x: [problem for problem in x if problem in filtered_problems_set])\n"
   ]
  },
  {
   "cell_type": "code",
   "execution_count": 36,
   "metadata": {},
   "outputs": [],
   "source": [
    "\n",
    "\n",
    "# 모든 문제의 고유 목록 생성\n",
    "all_problems = set()\n",
    "for row in df.itertuples():\n",
    "    all_problems.update(row.solvedProblemList)\n",
    "    all_problems.update(row.triedNotsolvedList)\n",
    "all_problems = sorted(all_problems)\n",
    "\n",
    "# 이진 상호작용 행렬 생성\n",
    "interaction_matrix = pd.DataFrame(0, index=df['id'], columns=all_problems)\n",
    "\n",
    "for row in df.itertuples():\n",
    "    interaction_matrix.loc[row.id, row.solvedProblemList] = 1\n",
    "\n",
    "\n"
   ]
  },
  {
   "cell_type": "code",
   "execution_count": 38,
   "metadata": {},
   "outputs": [],
   "source": [
    "# 데이터프레임을 PyTorch 텐서로 변환\n",
    "train_tensor = torch.tensor(interaction_matrix.values).float().to(device)\n"
   ]
  },
  {
   "cell_type": "code",
   "execution_count": 39,
   "metadata": {},
   "outputs": [],
   "source": [
    "# TensorDataset 및 DataLoader 생성\n",
    "dataset = TensorDataset(train_tensor)\n",
    "data_loader = DataLoader(dataset, batch_size=5000, shuffle=True)\n",
    "\n",
    "model = EASE(num_items=train_tensor.shape[1], reg_lambda=100).to(device)\n",
    "\n",
    "model.fit(data_loader)\n"
   ]
  },
  {
   "cell_type": "code",
   "execution_count": 40,
   "metadata": {},
   "outputs": [],
   "source": [
    "# 문제 번호와 칼럼 인덱스의 매핑 생성\n",
    "problem_to_index = {problem: idx for idx, problem in enumerate(interaction_matrix.columns)}\n",
    "solved_problems = user[user['id'] == 'jh5154']['solvedProblemList'].to_list()[0]\n",
    "\n",
    "# 사용자가 풀었던 문제 번호를 인덱스로 변환\n",
    "solved_problems_indices = [problem_to_index[problem] for problem in solved_problems if problem in problem_to_index]\n",
    "# 전체 문제 수\n",
    "num_problems = train_tensor.shape[1]"
   ]
  },
  {
   "cell_type": "code",
   "execution_count": 41,
   "metadata": {},
   "outputs": [
    {
     "data": {
      "text/html": [
       "<div>\n",
       "<style scoped>\n",
       "    .dataframe tbody tr th:only-of-type {\n",
       "        vertical-align: middle;\n",
       "    }\n",
       "\n",
       "    .dataframe tbody tr th {\n",
       "        vertical-align: top;\n",
       "    }\n",
       "\n",
       "    .dataframe thead th {\n",
       "        text-align: right;\n",
       "    }\n",
       "</style>\n",
       "<table border=\"1\" class=\"dataframe\">\n",
       "  <thead>\n",
       "    <tr style=\"text-align: right;\">\n",
       "      <th></th>\n",
       "      <th>problemId</th>\n",
       "      <th>title</th>\n",
       "      <th>acceptedUserCount</th>\n",
       "      <th>level</th>\n",
       "      <th>key</th>\n",
       "      <th>bojTagId</th>\n",
       "    </tr>\n",
       "  </thead>\n",
       "  <tbody>\n",
       "    <tr>\n",
       "      <th>149</th>\n",
       "      <td>1149</td>\n",
       "      <td>RGB거리</td>\n",
       "      <td>44529</td>\n",
       "      <td>10</td>\n",
       "      <td>['dp']</td>\n",
       "      <td>[25]</td>\n",
       "    </tr>\n",
       "    <tr>\n",
       "      <th>537</th>\n",
       "      <td>1541</td>\n",
       "      <td>잃어버린 괄호</td>\n",
       "      <td>34181</td>\n",
       "      <td>9</td>\n",
       "      <td>['greedy', 'math', 'parsing', 'string']</td>\n",
       "      <td>[33, 124, 96, 158]</td>\n",
       "    </tr>\n",
       "    <tr>\n",
       "      <th>923</th>\n",
       "      <td>1931</td>\n",
       "      <td>회의실 배정</td>\n",
       "      <td>44542</td>\n",
       "      <td>10</td>\n",
       "      <td>['greedy', 'sorting']</td>\n",
       "      <td>[33, 97]</td>\n",
       "    </tr>\n",
       "    <tr>\n",
       "      <th>924</th>\n",
       "      <td>1932</td>\n",
       "      <td>정수 삼각형</td>\n",
       "      <td>38475</td>\n",
       "      <td>10</td>\n",
       "      <td>['dp']</td>\n",
       "      <td>[25]</td>\n",
       "    </tr>\n",
       "    <tr>\n",
       "      <th>5627</th>\n",
       "      <td>7562</td>\n",
       "      <td>나이트의 이동</td>\n",
       "      <td>22046</td>\n",
       "      <td>10</td>\n",
       "      <td>['bfs', 'graphs', 'graph_traversal']</td>\n",
       "      <td>[126, 7, 11]</td>\n",
       "    </tr>\n",
       "    <tr>\n",
       "      <th>6476</th>\n",
       "      <td>7562</td>\n",
       "      <td>–댄몄 대</td>\n",
       "      <td>22046</td>\n",
       "      <td>10</td>\n",
       "      <td>['bfs', 'graphs', 'graph_traversal']</td>\n",
       "      <td>[126, 7, 11]</td>\n",
       "    </tr>\n",
       "    <tr>\n",
       "      <th>9565</th>\n",
       "      <td>10816</td>\n",
       "      <td>숫자 카드 2</td>\n",
       "      <td>36042</td>\n",
       "      <td>7</td>\n",
       "      <td>['binary_search', 'data_structures', 'hash_set...</td>\n",
       "      <td>[12, 175, 136, 97]</td>\n",
       "    </tr>\n",
       "    <tr>\n",
       "      <th>9617</th>\n",
       "      <td>10870</td>\n",
       "      <td>피보나치 수 5</td>\n",
       "      <td>55086</td>\n",
       "      <td>4</td>\n",
       "      <td>['implementation', 'math']</td>\n",
       "      <td>[102, 124]</td>\n",
       "    </tr>\n",
       "  </tbody>\n",
       "</table>\n",
       "</div>"
      ],
      "text/plain": [
       "      problemId     title  acceptedUserCount  level  \\\n",
       "149        1149     RGB거리              44529     10   \n",
       "537        1541   잃어버린 괄호              34181      9   \n",
       "923        1931    회의실 배정              44542     10   \n",
       "924        1932    정수 삼각형              38475     10   \n",
       "5627       7562   나이트의 이동              22046     10   \n",
       "6476       7562    –댄몄 대              22046     10   \n",
       "9565      10816   숫자 카드 2              36042      7   \n",
       "9617      10870  피보나치 수 5              55086      4   \n",
       "\n",
       "                                                    key            bojTagId  \n",
       "149                                              ['dp']                [25]  \n",
       "537             ['greedy', 'math', 'parsing', 'string']  [33, 124, 96, 158]  \n",
       "923                               ['greedy', 'sorting']            [33, 97]  \n",
       "924                                              ['dp']                [25]  \n",
       "5627               ['bfs', 'graphs', 'graph_traversal']        [126, 7, 11]  \n",
       "6476               ['bfs', 'graphs', 'graph_traversal']        [126, 7, 11]  \n",
       "9565  ['binary_search', 'data_structures', 'hash_set...  [12, 175, 136, 97]  \n",
       "9617                         ['implementation', 'math']          [102, 124]  "
      ]
     },
     "execution_count": 41,
     "metadata": {},
     "output_type": "execute_result"
    }
   ],
   "source": [
    "\n",
    "\n",
    "# 사용자 상호작용 텐서 생성\n",
    "user_interaction_tensor = torch.zeros(num_problems)\n",
    "user_interaction_tensor[solved_problems_indices] = 1\n",
    "# 텐서를 모델이 있는 디바이스로 이동\n",
    "user_interaction_tensor = user_interaction_tensor.to(device)\n",
    "# 모델을 사용하여 추천 점수 계산\n",
    "predicted_scores = model(user_interaction_tensor)\n",
    "\n",
    "# 이미 풀었던 문제의 점수를 제외\n",
    "predicted_scores[solved_problems_indices] = -np.inf\n",
    "\n",
    "# 추천 점수 기반으로 추천 문제 선택 (예: 상위 N개 문제)\n",
    "recommended_problems = torch.topk(predicted_scores, k=10).indices\n",
    "# 칼럼 인덱스에서 문제 번호로의 역매핑 생성 -> 위에있는 값이 value라서 key로 찾을 수 없음 그래서 역매핑해야됨\n",
    "index_to_problem = {idx: problem for problem, idx in problem_to_index.items()}\n",
    "# 추천된 인덱스를 문제 번호로 변환\n",
    "recommended_problem_numbers = [index_to_problem[idx.item()] for idx in recommended_problems]\n",
    "recommended_problem_numbers =list(map(int, recommended_problem_numbers))\n",
    "problem[problem['problemId'].isin(recommended_problem_numbers)]"
   ]
  },
  {
   "cell_type": "markdown",
   "metadata": {},
   "source": [
    "## test 데이터로"
   ]
  },
  {
   "cell_type": "code",
   "execution_count": 143,
   "metadata": {},
   "outputs": [],
   "source": [
    "distances, indices = knn.kneighbors([X_test_scaled[0]])\n",
    "\n",
    "# 필터링된 데이터 프레임 생성\n",
    "nearest_neighbors_df = X_train.iloc[indices[0]]"
   ]
  },
  {
   "cell_type": "code",
   "execution_count": 146,
   "metadata": {},
   "outputs": [],
   "source": [
    "df = user.loc[nearest_neighbors_df.index, :]"
   ]
  },
  {
   "cell_type": "code",
   "execution_count": 148,
   "metadata": {},
   "outputs": [],
   "source": [
    "# 모든 문제의 고유 목록 생성\n",
    "all_problems = set()\n",
    "for row in df.itertuples():\n",
    "    all_problems.update(row.solvedProblemList)\n",
    "    all_problems.update(row.triedNotsolvedList)\n",
    "all_problems = sorted(all_problems)\n",
    "\n",
    "# 이진 상호작용 행렬 생성\n",
    "interaction_matrix = pd.DataFrame(0, index=df['id'], columns=all_problems)\n",
    "\n",
    "for row in df.itertuples():\n",
    "    interaction_matrix.loc[row.id, row.solvedProblemList] = 1"
   ]
  },
  {
   "cell_type": "code",
   "execution_count": null,
   "metadata": {},
   "outputs": [],
   "source": [
    "# 데이터프레임을 PyTorch 텐서로 변환\n",
    "train_tensor = torch.tensor(interaction_matrix.values).float().to(device)\n"
   ]
  },
  {
   "cell_type": "code",
   "execution_count": null,
   "metadata": {},
   "outputs": [],
   "source": [
    "# TensorDataset 및 DataLoader 생성\n",
    "dataset = TensorDataset(train_tensor)\n",
    "data_loader = DataLoader(dataset, batch_size=5000, shuffle=True)\n",
    "\n",
    "model = EASE(num_items=train_tensor.shape[1], reg_lambda=100).to(device)\n",
    "\n",
    "model.fit(data_loader)"
   ]
  },
  {
   "cell_type": "code",
   "execution_count": 158,
   "metadata": {},
   "outputs": [],
   "source": [
    "solved_problems = user.iloc[X_test.index[0]]['solvedProblemList']"
   ]
  },
  {
   "cell_type": "code",
   "execution_count": 159,
   "metadata": {},
   "outputs": [],
   "source": [
    "# 문제 번호와 칼럼 인덱스의 매핑 생성\n",
    "problem_to_index = {problem: idx for idx, problem in enumerate(interaction_matrix.columns)}"
   ]
  },
  {
   "cell_type": "code",
   "execution_count": 161,
   "metadata": {},
   "outputs": [],
   "source": [
    "\n",
    "# 사용자가 풀었던 문제 번호를 인덱스로 변환\n",
    "solved_problems_indices = [problem_to_index[problem] for problem in solved_problems if problem in problem_to_index]\n",
    "# 전체 문제 수\n",
    "num_problems = train_tensor.shape[1]\n",
    "\n",
    "# 사용자 상호작용 텐서 생성\n",
    "user_interaction_tensor = torch.zeros(num_problems)\n",
    "user_interaction_tensor[solved_problems_indices] = 1\n",
    "# 텐서를 모델이 있는 디바이스로 이동\n",
    "user_interaction_tensor = user_interaction_tensor.to(device)\n",
    "# 모델을 사용하여 추천 점수 계산\n",
    "predicted_scores = model(user_interaction_tensor)\n",
    "\n",
    "# 이미 풀었던 문제의 점수를 제외\n",
    "predicted_scores[solved_problems_indices] = -np.inf\n",
    "\n",
    "# 추천 점수 기반으로 추천 문제 선택 (예: 상위 N개 문제)\n",
    "recommended_problems = torch.topk(predicted_scores, k=10).indices\n"
   ]
  },
  {
   "cell_type": "code",
   "execution_count": 162,
   "metadata": {},
   "outputs": [
    {
     "data": {
      "text/html": [
       "<div>\n",
       "<style scoped>\n",
       "    .dataframe tbody tr th:only-of-type {\n",
       "        vertical-align: middle;\n",
       "    }\n",
       "\n",
       "    .dataframe tbody tr th {\n",
       "        vertical-align: top;\n",
       "    }\n",
       "\n",
       "    .dataframe thead th {\n",
       "        text-align: right;\n",
       "    }\n",
       "</style>\n",
       "<table border=\"1\" class=\"dataframe\">\n",
       "  <thead>\n",
       "    <tr style=\"text-align: right;\">\n",
       "      <th></th>\n",
       "      <th>problemId</th>\n",
       "      <th>title</th>\n",
       "      <th>acceptedUserCount</th>\n",
       "      <th>level</th>\n",
       "      <th>key</th>\n",
       "      <th>bojTagId</th>\n",
       "    </tr>\n",
       "  </thead>\n",
       "  <tbody>\n",
       "    <tr>\n",
       "      <th>10</th>\n",
       "      <td>1010</td>\n",
       "      <td>다리 놓기</td>\n",
       "      <td>34577</td>\n",
       "      <td>6</td>\n",
       "      <td>['combinatorics', 'dp', 'math']</td>\n",
       "      <td>[6, 25, 124]</td>\n",
       "    </tr>\n",
       "    <tr>\n",
       "      <th>18</th>\n",
       "      <td>1018</td>\n",
       "      <td>체스판 다시 칠하기</td>\n",
       "      <td>43928</td>\n",
       "      <td>7</td>\n",
       "      <td>['bruteforcing']</td>\n",
       "      <td>[125]</td>\n",
       "    </tr>\n",
       "    <tr>\n",
       "      <th>157</th>\n",
       "      <td>1157</td>\n",
       "      <td>단어 공부</td>\n",
       "      <td>83256</td>\n",
       "      <td>5</td>\n",
       "      <td>['implementation', 'string']</td>\n",
       "      <td>[102, 158]</td>\n",
       "    </tr>\n",
       "    <tr>\n",
       "      <th>754</th>\n",
       "      <td>1759</td>\n",
       "      <td>암호 만들기</td>\n",
       "      <td>22908</td>\n",
       "      <td>11</td>\n",
       "      <td>['backtracking', 'bruteforcing', 'combinatoric...</td>\n",
       "      <td>[5, 125, 6, 124]</td>\n",
       "    </tr>\n",
       "    <tr>\n",
       "      <th>905</th>\n",
       "      <td>1912</td>\n",
       "      <td>연속합</td>\n",
       "      <td>36385</td>\n",
       "      <td>9</td>\n",
       "      <td>['dp']</td>\n",
       "      <td>[25]</td>\n",
       "    </tr>\n",
       "    <tr>\n",
       "      <th>1648</th>\n",
       "      <td>2644</td>\n",
       "      <td>촌수계산</td>\n",
       "      <td>18432</td>\n",
       "      <td>9</td>\n",
       "      <td>['graphs', 'graph_traversal', 'bfs', 'dfs']</td>\n",
       "      <td>[7, 11, 126, 127]</td>\n",
       "    </tr>\n",
       "    <tr>\n",
       "      <th>3912</th>\n",
       "      <td>4963</td>\n",
       "      <td>섬의 개수</td>\n",
       "      <td>23781</td>\n",
       "      <td>9</td>\n",
       "      <td>['graphs', 'graph_traversal', 'bfs', 'dfs']</td>\n",
       "      <td>[7, 11, 126, 127]</td>\n",
       "    </tr>\n",
       "    <tr>\n",
       "      <th>4718</th>\n",
       "      <td>6603</td>\n",
       "      <td>로또</td>\n",
       "      <td>22184</td>\n",
       "      <td>9</td>\n",
       "      <td>['backtracking', 'combinatorics', 'math', 'rec...</td>\n",
       "      <td>[5, 6, 124, 62]</td>\n",
       "    </tr>\n",
       "    <tr>\n",
       "      <th>8805</th>\n",
       "      <td>10026</td>\n",
       "      <td>적록색약</td>\n",
       "      <td>26424</td>\n",
       "      <td>11</td>\n",
       "      <td>['bfs', 'dfs', 'graphs', 'graph_traversal']</td>\n",
       "      <td>[126, 127, 7, 11]</td>\n",
       "    </tr>\n",
       "    <tr>\n",
       "      <th>9617</th>\n",
       "      <td>10870</td>\n",
       "      <td>피보나치 수 5</td>\n",
       "      <td>55086</td>\n",
       "      <td>4</td>\n",
       "      <td>['implementation', 'math']</td>\n",
       "      <td>[102, 124]</td>\n",
       "    </tr>\n",
       "  </tbody>\n",
       "</table>\n",
       "</div>"
      ],
      "text/plain": [
       "      problemId       title  acceptedUserCount  level  \\\n",
       "10         1010       다리 놓기              34577      6   \n",
       "18         1018  체스판 다시 칠하기              43928      7   \n",
       "157        1157       단어 공부              83256      5   \n",
       "754        1759      암호 만들기              22908     11   \n",
       "905        1912         연속합              36385      9   \n",
       "1648       2644        촌수계산              18432      9   \n",
       "3912       4963       섬의 개수              23781      9   \n",
       "4718       6603          로또              22184      9   \n",
       "8805      10026        적록색약              26424     11   \n",
       "9617      10870    피보나치 수 5              55086      4   \n",
       "\n",
       "                                                    key           bojTagId  \n",
       "10                      ['combinatorics', 'dp', 'math']       [6, 25, 124]  \n",
       "18                                     ['bruteforcing']              [125]  \n",
       "157                        ['implementation', 'string']         [102, 158]  \n",
       "754   ['backtracking', 'bruteforcing', 'combinatoric...   [5, 125, 6, 124]  \n",
       "905                                              ['dp']               [25]  \n",
       "1648        ['graphs', 'graph_traversal', 'bfs', 'dfs']  [7, 11, 126, 127]  \n",
       "3912        ['graphs', 'graph_traversal', 'bfs', 'dfs']  [7, 11, 126, 127]  \n",
       "4718  ['backtracking', 'combinatorics', 'math', 'rec...    [5, 6, 124, 62]  \n",
       "8805        ['bfs', 'dfs', 'graphs', 'graph_traversal']  [126, 127, 7, 11]  \n",
       "9617                         ['implementation', 'math']         [102, 124]  "
      ]
     },
     "execution_count": 162,
     "metadata": {},
     "output_type": "execute_result"
    }
   ],
   "source": [
    "# 칼럼 인덱스에서 문제 번호로의 역매핑 생성 -> 위에있는 값이 value라서 key로 찾을 수 없음 그래서 역매핑해야됨\n",
    "index_to_problem = {idx: problem for problem, idx in problem_to_index.items()}\n",
    "# 추천된 인덱스를 문제 번호로 변환\n",
    "recommended_problem_numbers = [index_to_problem[idx.item()] for idx in recommended_problems]\n",
    "recommended_problem_numbers =list(map(int, recommended_problem_numbers))\n",
    "problem[problem['problemId'].isin(recommended_problem_numbers)]"
   ]
  },
  {
   "cell_type": "code",
   "execution_count": null,
   "metadata": {},
   "outputs": [],
   "source": []
  }
 ],
 "metadata": {
  "kernelspec": {
   "display_name": "tave",
   "language": "python",
   "name": "python3"
  },
  "language_info": {
   "codemirror_mode": {
    "name": "ipython",
    "version": 3
   },
   "file_extension": ".py",
   "mimetype": "text/x-python",
   "name": "python",
   "nbconvert_exporter": "python",
   "pygments_lexer": "ipython3",
   "version": "3.8.18"
  }
 },
 "nbformat": 4,
 "nbformat_minor": 2
}
